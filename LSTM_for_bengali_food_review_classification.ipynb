{
  "nbformat": 4,
  "nbformat_minor": 0,
  "metadata": {
    "colab": {
      "name": "LSTM_for_bengali_food_review_classification.ipynb",
      "provenance": [],
      "authorship_tag": "ABX9TyPjVE2RKrub/B0XiTQfxnTu",
      "include_colab_link": true
    },
    "kernelspec": {
      "name": "python3",
      "display_name": "Python 3"
    },
    "language_info": {
      "name": "python"
    },
    "accelerator": "GPU"
  },
  "cells": [
    {
      "cell_type": "markdown",
      "metadata": {
        "id": "view-in-github",
        "colab_type": "text"
      },
      "source": [
        "<a href=\"https://colab.research.google.com/github/Muhaiminul8473/Bengali-food-review-classification/blob/main/LSTM_for_bengali_food_review_classification.ipynb\" target=\"_parent\"><img src=\"https://colab.research.google.com/assets/colab-badge.svg\" alt=\"Open In Colab\"/></a>"
      ]
    },
    {
      "cell_type": "code",
      "metadata": {
        "colab": {
          "base_uri": "https://localhost:8080/"
        },
        "id": "DHwwNl_eTyaw",
        "outputId": "c96ed76e-c50b-4add-b40f-2629ac6718e8"
      },
      "source": [
        "from google.colab import drive\n",
        "drive.mount('/content/gdrive')"
      ],
      "execution_count": 1,
      "outputs": [
        {
          "output_type": "stream",
          "text": [
            "Mounted at /content/gdrive\n"
          ],
          "name": "stdout"
        }
      ]
    },
    {
      "cell_type": "code",
      "metadata": {
        "colab": {
          "base_uri": "https://localhost:8080/",
          "height": 35
        },
        "id": "sNWdHRdCT-Ss",
        "outputId": "3e1e0d69-c1d0-4691-fa50-3e9f3cf4dc43"
      },
      "source": [
        "import tensorflow as tf\n",
        "\n",
        "tf.__version__\n"
      ],
      "execution_count": 2,
      "outputs": [
        {
          "output_type": "execute_result",
          "data": {
            "application/vnd.google.colaboratory.intrinsic+json": {
              "type": "string"
            },
            "text/plain": [
              "'2.5.0'"
            ]
          },
          "metadata": {
            "tags": []
          },
          "execution_count": 2
        }
      ]
    },
    {
      "cell_type": "code",
      "metadata": {
        "id": "iB8E81b8T-aP"
      },
      "source": [
        "import tensorflow as tf\n",
        "\n",
        "import numpy as np\n",
        "import matplotlib.pyplot as plt\n",
        "import seaborn as sns\n",
        "from sklearn.model_selection import train_test_split\n",
        "from sklearn.preprocessing import LabelEncoder\n",
        "from keras.models import Model\n",
        "from keras.layers import LSTM,Activation,Dense,Dropout,Input,Embedding\n",
        "from keras.optimizers import RMSprop,Adam,SGD\n",
        "from keras.preprocessing.text import Tokenizer\n",
        "from keras.preprocessing import sequence\n",
        "from tensorflow.keras.utils import to_categorical\n",
        "from keras.callbacks import EarlyStopping\n",
        "%matplotlib inline"
      ],
      "execution_count": 3,
      "outputs": []
    },
    {
      "cell_type": "code",
      "metadata": {
        "colab": {
          "base_uri": "https://localhost:8080/",
          "height": 195
        },
        "id": "0s7_RUHFT-dp",
        "outputId": "b29e2a86-0373-4885-c864-cbabe1692ff7"
      },
      "source": [
        "import pandas as pd\n",
        "df=pd.read_excel(\"/content/gdrive/My Drive/Soultimes_works/SoulTimes2.xlsx\")\n",
        "df.head()"
      ],
      "execution_count": 4,
      "outputs": [
        {
          "output_type": "execute_result",
          "data": {
            "text/html": [
              "<div>\n",
              "<style scoped>\n",
              "    .dataframe tbody tr th:only-of-type {\n",
              "        vertical-align: middle;\n",
              "    }\n",
              "\n",
              "    .dataframe tbody tr th {\n",
              "        vertical-align: top;\n",
              "    }\n",
              "\n",
              "    .dataframe thead th {\n",
              "        text-align: right;\n",
              "    }\n",
              "</style>\n",
              "<table border=\"1\" class=\"dataframe\">\n",
              "  <thead>\n",
              "    <tr style=\"text-align: right;\">\n",
              "      <th></th>\n",
              "      <th>Reviews</th>\n",
              "      <th>Rating</th>\n",
              "    </tr>\n",
              "  </thead>\n",
              "  <tbody>\n",
              "    <tr>\n",
              "      <th>0</th>\n",
              "      <td>বনশ্রী তে বেস্ট কাচ্চি খাওয়া এখন পর্যন্ত The ...</td>\n",
              "      <td>Best</td>\n",
              "    </tr>\n",
              "    <tr>\n",
              "      <th>1</th>\n",
              "      <td>মিররের  এরাবিয়ান রাইস ( মান্দি )না খেলে জীবন ই...</td>\n",
              "      <td>Best</td>\n",
              "    </tr>\n",
              "    <tr>\n",
              "      <th>2</th>\n",
              "      <td>২২০ টাকা দিয়ে হেব্বি একটা খাবার খেলাম Bela Bit...</td>\n",
              "      <td>Best</td>\n",
              "    </tr>\n",
              "    <tr>\n",
              "      <th>3</th>\n",
              "      <td>৩০০ টাকায় পাস্তা পেটেরপান খেতে চলে গেলাম, দ্যা...</td>\n",
              "      <td>Best</td>\n",
              "    </tr>\n",
              "    <tr>\n",
              "      <th>4</th>\n",
              "      <td>গিয়েছিলাম খেতে #Steakout এ অর্ডার করেছিলাম : C...</td>\n",
              "      <td>Best</td>\n",
              "    </tr>\n",
              "  </tbody>\n",
              "</table>\n",
              "</div>"
            ],
            "text/plain": [
              "                                             Reviews Rating\n",
              "0  বনশ্রী তে বেস্ট কাচ্চি খাওয়া এখন পর্যন্ত The ...   Best\n",
              "1  মিররের  এরাবিয়ান রাইস ( মান্দি )না খেলে জীবন ই...   Best\n",
              "2  ২২০ টাকা দিয়ে হেব্বি একটা খাবার খেলাম Bela Bit...   Best\n",
              "3  ৩০০ টাকায় পাস্তা পেটেরপান খেতে চলে গেলাম, দ্যা...   Best\n",
              "4  গিয়েছিলাম খেতে #Steakout এ অর্ডার করেছিলাম : C...   Best"
            ]
          },
          "metadata": {
            "tags": []
          },
          "execution_count": 4
        }
      ]
    },
    {
      "cell_type": "code",
      "metadata": {
        "id": "mnMaShjiCRJU"
      },
      "source": [
        "dfbest = df[df[\"Rating\"]=='Best']"
      ],
      "execution_count": 6,
      "outputs": []
    },
    {
      "cell_type": "code",
      "metadata": {
        "id": "xztguKk5CWR7"
      },
      "source": [
        "dfgood = df[df[\"Rating\"]=='Good']"
      ],
      "execution_count": 7,
      "outputs": []
    },
    {
      "cell_type": "code",
      "metadata": {
        "id": "KndZcv7sCWWI"
      },
      "source": [
        "dfbad = df[df[\"Rating\"]=='Bad']"
      ],
      "execution_count": 8,
      "outputs": []
    },
    {
      "cell_type": "code",
      "metadata": {
        "id": "B55te_YoCWf_"
      },
      "source": [
        "df = pd.concat([dfbest,dfgood,dfbad],ignore_index=False)"
      ],
      "execution_count": 9,
      "outputs": []
    },
    {
      "cell_type": "code",
      "metadata": {
        "colab": {
          "base_uri": "https://localhost:8080/",
          "height": 402
        },
        "id": "IVzjTfyECbS0",
        "outputId": "b204b48b-a012-4181-dc25-cc2d55ba56c3"
      },
      "source": [
        "df"
      ],
      "execution_count": 10,
      "outputs": [
        {
          "output_type": "execute_result",
          "data": {
            "text/html": [
              "<div>\n",
              "<style scoped>\n",
              "    .dataframe tbody tr th:only-of-type {\n",
              "        vertical-align: middle;\n",
              "    }\n",
              "\n",
              "    .dataframe tbody tr th {\n",
              "        vertical-align: top;\n",
              "    }\n",
              "\n",
              "    .dataframe thead th {\n",
              "        text-align: right;\n",
              "    }\n",
              "</style>\n",
              "<table border=\"1\" class=\"dataframe\">\n",
              "  <thead>\n",
              "    <tr style=\"text-align: right;\">\n",
              "      <th></th>\n",
              "      <th>Reviews</th>\n",
              "      <th>Rating</th>\n",
              "    </tr>\n",
              "  </thead>\n",
              "  <tbody>\n",
              "    <tr>\n",
              "      <th>0</th>\n",
              "      <td>বনশ্রী তে বেস্ট কাচ্চি খাওয়া এখন পর্যন্ত The ...</td>\n",
              "      <td>Best</td>\n",
              "    </tr>\n",
              "    <tr>\n",
              "      <th>1</th>\n",
              "      <td>মিররের  এরাবিয়ান রাইস ( মান্দি )না খেলে জীবন ই...</td>\n",
              "      <td>Best</td>\n",
              "    </tr>\n",
              "    <tr>\n",
              "      <th>2</th>\n",
              "      <td>২২০ টাকা দিয়ে হেব্বি একটা খাবার খেলাম Bela Bit...</td>\n",
              "      <td>Best</td>\n",
              "    </tr>\n",
              "    <tr>\n",
              "      <th>3</th>\n",
              "      <td>৩০০ টাকায় পাস্তা পেটেরপান খেতে চলে গেলাম, দ্যা...</td>\n",
              "      <td>Best</td>\n",
              "    </tr>\n",
              "    <tr>\n",
              "      <th>4</th>\n",
              "      <td>গিয়েছিলাম খেতে #Steakout এ অর্ডার করেছিলাম : C...</td>\n",
              "      <td>Best</td>\n",
              "    </tr>\n",
              "    <tr>\n",
              "      <th>...</th>\n",
              "      <td>...</td>\n",
              "      <td>...</td>\n",
              "    </tr>\n",
              "    <tr>\n",
              "      <th>994</th>\n",
              "      <td>#নেগেটিভ_রিভিউ। হাজীর বিরিয়ানী নাজিরাবাজার। ১৬...</td>\n",
              "      <td>Bad</td>\n",
              "    </tr>\n",
              "    <tr>\n",
              "      <th>995</th>\n",
              "      <td>আজকের খাবার অভিগ্যতা: ফায়ারফ্লাইস (ধানমন্ডি ২৭...</td>\n",
              "      <td>Bad</td>\n",
              "    </tr>\n",
              "    <tr>\n",
              "      <th>996</th>\n",
              "      <td>#নেগেটিভ_রিভিউ। খুব বেশি কিছু বলার নাই শুধু মা...</td>\n",
              "      <td>Bad</td>\n",
              "    </tr>\n",
              "    <tr>\n",
              "      <th>997</th>\n",
              "      <td>জঘন্য অভিজ্ঞতা: ইন্ডিয়ান স্পাইসি, বসুন্ধরা সিট...</td>\n",
              "      <td>Bad</td>\n",
              "    </tr>\n",
              "    <tr>\n",
              "      <th>998</th>\n",
              "      <td>শপ: টেস্টি ট্রিট। টেস্ট: জঘন্য! মাইনাসে রেটিং ...</td>\n",
              "      <td>Bad</td>\n",
              "    </tr>\n",
              "  </tbody>\n",
              "</table>\n",
              "<p>990 rows × 2 columns</p>\n",
              "</div>"
            ],
            "text/plain": [
              "                                               Reviews Rating\n",
              "0    বনশ্রী তে বেস্ট কাচ্চি খাওয়া এখন পর্যন্ত The ...   Best\n",
              "1    মিররের  এরাবিয়ান রাইস ( মান্দি )না খেলে জীবন ই...   Best\n",
              "2    ২২০ টাকা দিয়ে হেব্বি একটা খাবার খেলাম Bela Bit...   Best\n",
              "3    ৩০০ টাকায় পাস্তা পেটেরপান খেতে চলে গেলাম, দ্যা...   Best\n",
              "4    গিয়েছিলাম খেতে #Steakout এ অর্ডার করেছিলাম : C...   Best\n",
              "..                                                 ...    ...\n",
              "994  #নেগেটিভ_রিভিউ। হাজীর বিরিয়ানী নাজিরাবাজার। ১৬...    Bad\n",
              "995  আজকের খাবার অভিগ্যতা: ফায়ারফ্লাইস (ধানমন্ডি ২৭...    Bad\n",
              "996  #নেগেটিভ_রিভিউ। খুব বেশি কিছু বলার নাই শুধু মা...    Bad\n",
              "997  জঘন্য অভিজ্ঞতা: ইন্ডিয়ান স্পাইসি, বসুন্ধরা সিট...    Bad\n",
              "998  শপ: টেস্টি ট্রিট। টেস্ট: জঘন্য! মাইনাসে রেটিং ...    Bad\n",
              "\n",
              "[990 rows x 2 columns]"
            ]
          },
          "metadata": {
            "tags": []
          },
          "execution_count": 10
        }
      ]
    },
    {
      "cell_type": "code",
      "metadata": {
        "colab": {
          "base_uri": "https://localhost:8080/"
        },
        "id": "HuNbrF4nCeIt",
        "outputId": "e6c64b0e-d9cc-46a2-d2d3-e891a4b803ee"
      },
      "source": [
        "df['Rating'].value_counts()"
      ],
      "execution_count": 11,
      "outputs": [
        {
          "output_type": "execute_result",
          "data": {
            "text/plain": [
              "Good    333\n",
              "Bad     330\n",
              "Best    327\n",
              "Name: Rating, dtype: int64"
            ]
          },
          "metadata": {
            "tags": []
          },
          "execution_count": 11
        }
      ]
    },
    {
      "cell_type": "code",
      "metadata": {
        "colab": {
          "base_uri": "https://localhost:8080/",
          "height": 296
        },
        "id": "mdgSsJNuT-gs",
        "outputId": "1b483671-e0ed-4b41-8368-1608c7b78971"
      },
      "source": [
        "import seaborn as sns\n",
        "\n",
        "sns.countplot(x='Rating', data=df)\n",
        "#plt.savefig('/content/data.png')"
      ],
      "execution_count": 12,
      "outputs": [
        {
          "output_type": "execute_result",
          "data": {
            "text/plain": [
              "<matplotlib.axes._subplots.AxesSubplot at 0x7fc24b7b78d0>"
            ]
          },
          "metadata": {
            "tags": []
          },
          "execution_count": 12
        },
        {
          "output_type": "display_data",
          "data": {
            "image/png": "[encoded data removed]",
            "text/plain": [
              "<Figure size 432x288 with 1 Axes>"
            ]
          },
          "metadata": {
            "tags": [],
            "needs_background": "light"
          }
        }
      ]
    },
    {
      "cell_type": "code",
      "metadata": {
        "colab": {
          "base_uri": "https://localhost:8080/"
        },
        "id": "A6ptp6z2T-jq",
        "outputId": "fa4e15ca-050f-4386-9b84-915491cb5b11"
      },
      "source": [
        "df.columns"
      ],
      "execution_count": 13,
      "outputs": [
        {
          "output_type": "execute_result",
          "data": {
            "text/plain": [
              "Index(['Reviews', 'Rating'], dtype='object')"
            ]
          },
          "metadata": {
            "tags": []
          },
          "execution_count": 13
        }
      ]
    },
    {
      "cell_type": "code",
      "metadata": {
        "colab": {
          "base_uri": "https://localhost:8080/"
        },
        "id": "nS1ufko8T-mx",
        "outputId": "62716328-8ed8-47a1-e646-c665a7c08d20"
      },
      "source": [
        "df.shape"
      ],
      "execution_count": 14,
      "outputs": [
        {
          "output_type": "execute_result",
          "data": {
            "text/plain": [
              "(990, 2)"
            ]
          },
          "metadata": {
            "tags": []
          },
          "execution_count": 14
        }
      ]
    },
    {
      "cell_type": "code",
      "metadata": {
        "colab": {
          "base_uri": "https://localhost:8080/"
        },
        "id": "N5PO34jfT-s4",
        "outputId": "365375ac-54d1-499b-c9bd-4d89801afcc5"
      },
      "source": [
        "import string \n",
        "def remove_punc(s):\n",
        "    table = str.maketrans({key: None for key in string.punctuation})\n",
        "    return s.translate(table)\n",
        "x = df['Reviews'].apply(remove_punc)\n",
        "x.shape"
      ],
      "execution_count": 15,
      "outputs": [
        {
          "output_type": "execute_result",
          "data": {
            "text/plain": [
              "(990,)"
            ]
          },
          "metadata": {
            "tags": []
          },
          "execution_count": 15
        }
      ]
    },
    {
      "cell_type": "code",
      "metadata": {
        "colab": {
          "base_uri": "https://localhost:8080/"
        },
        "id": "rsfU4cqHIBIL",
        "outputId": "e2645d70-51b2-4ebb-a430-e4adfa661a19"
      },
      "source": [
        "x"
      ],
      "execution_count": 18,
      "outputs": [
        {
          "output_type": "execute_result",
          "data": {
            "text/plain": [
              "0      বনশ্রী তে বেস্ট কাচ্চি খাওয়া এখন পর্যন্ত The ...\n",
              "1      মিররের  এরাবিয়ান রাইস  মান্দি না খেলে জীবন ই  ...\n",
              "2      ২২০ টাকা দিয়ে হেব্বি একটা খাবার খেলাম Bela Bit...\n",
              "3      ৩০০ টাকায় পাস্তা পেটেরপান খেতে চলে গেলাম দ্যা ...\n",
              "4      গিয়েছিলাম খেতে Steakout এ অর্ডার করেছিলাম  Che...\n",
              "                             ...                        \n",
              "994    নেগেটিভরিভিউ। হাজীর বিরিয়ানী নাজিরাবাজার। ১৬০ ...\n",
              "995    আজকের খাবার অভিগ্যতা ফায়ারফ্লাইস ধানমন্ডি ২৭। ...\n",
              "996    নেগেটিভরিভিউ। খুব বেশি কিছু বলার নাই শুধু মানু...\n",
              "997    জঘন্য অভিজ্ঞতা ইন্ডিয়ান স্পাইসি বসুন্ধরা সিটি ...\n",
              "998    শপ টেস্টি ট্রিট। টেস্ট জঘন্য মাইনাসে রেটিং দিল...\n",
              "Name: Reviews, Length: 990, dtype: object"
            ]
          },
          "metadata": {
            "tags": []
          },
          "execution_count": 18
        }
      ]
    },
    {
      "cell_type": "code",
      "metadata": {
        "colab": {
          "base_uri": "https://localhost:8080/",
          "height": 402
        },
        "id": "hXoKTHqeE97O",
        "outputId": "86a69188-df2a-45b8-f861-82ba413aaa67"
      },
      "source": [
        "from sklearn.preprocessing import LabelEncoder\n",
        "l = LabelEncoder()\n",
        "df['Rating'] =l.fit_transform(df['Rating'])\n",
        "df"
      ],
      "execution_count": 19,
      "outputs": [
        {
          "output_type": "execute_result",
          "data": {
            "text/html": [
              "<div>\n",
              "<style scoped>\n",
              "    .dataframe tbody tr th:only-of-type {\n",
              "        vertical-align: middle;\n",
              "    }\n",
              "\n",
              "    .dataframe tbody tr th {\n",
              "        vertical-align: top;\n",
              "    }\n",
              "\n",
              "    .dataframe thead th {\n",
              "        text-align: right;\n",
              "    }\n",
              "</style>\n",
              "<table border=\"1\" class=\"dataframe\">\n",
              "  <thead>\n",
              "    <tr style=\"text-align: right;\">\n",
              "      <th></th>\n",
              "      <th>Reviews</th>\n",
              "      <th>Rating</th>\n",
              "    </tr>\n",
              "  </thead>\n",
              "  <tbody>\n",
              "    <tr>\n",
              "      <th>0</th>\n",
              "      <td>বনশ্রী তে বেস্ট কাচ্চি খাওয়া এখন পর্যন্ত The ...</td>\n",
              "      <td>1</td>\n",
              "    </tr>\n",
              "    <tr>\n",
              "      <th>1</th>\n",
              "      <td>মিররের  এরাবিয়ান রাইস ( মান্দি )না খেলে জীবন ই...</td>\n",
              "      <td>1</td>\n",
              "    </tr>\n",
              "    <tr>\n",
              "      <th>2</th>\n",
              "      <td>২২০ টাকা দিয়ে হেব্বি একটা খাবার খেলাম Bela Bit...</td>\n",
              "      <td>1</td>\n",
              "    </tr>\n",
              "    <tr>\n",
              "      <th>3</th>\n",
              "      <td>৩০০ টাকায় পাস্তা পেটেরপান খেতে চলে গেলাম, দ্যা...</td>\n",
              "      <td>1</td>\n",
              "    </tr>\n",
              "    <tr>\n",
              "      <th>4</th>\n",
              "      <td>গিয়েছিলাম খেতে #Steakout এ অর্ডার করেছিলাম : C...</td>\n",
              "      <td>1</td>\n",
              "    </tr>\n",
              "    <tr>\n",
              "      <th>...</th>\n",
              "      <td>...</td>\n",
              "      <td>...</td>\n",
              "    </tr>\n",
              "    <tr>\n",
              "      <th>994</th>\n",
              "      <td>#নেগেটিভ_রিভিউ। হাজীর বিরিয়ানী নাজিরাবাজার। ১৬...</td>\n",
              "      <td>0</td>\n",
              "    </tr>\n",
              "    <tr>\n",
              "      <th>995</th>\n",
              "      <td>আজকের খাবার অভিগ্যতা: ফায়ারফ্লাইস (ধানমন্ডি ২৭...</td>\n",
              "      <td>0</td>\n",
              "    </tr>\n",
              "    <tr>\n",
              "      <th>996</th>\n",
              "      <td>#নেগেটিভ_রিভিউ। খুব বেশি কিছু বলার নাই শুধু মা...</td>\n",
              "      <td>0</td>\n",
              "    </tr>\n",
              "    <tr>\n",
              "      <th>997</th>\n",
              "      <td>জঘন্য অভিজ্ঞতা: ইন্ডিয়ান স্পাইসি, বসুন্ধরা সিট...</td>\n",
              "      <td>0</td>\n",
              "    </tr>\n",
              "    <tr>\n",
              "      <th>998</th>\n",
              "      <td>শপ: টেস্টি ট্রিট। টেস্ট: জঘন্য! মাইনাসে রেটিং ...</td>\n",
              "      <td>0</td>\n",
              "    </tr>\n",
              "  </tbody>\n",
              "</table>\n",
              "<p>990 rows × 2 columns</p>\n",
              "</div>"
            ],
            "text/plain": [
              "                                               Reviews  Rating\n",
              "0    বনশ্রী তে বেস্ট কাচ্চি খাওয়া এখন পর্যন্ত The ...       1\n",
              "1    মিররের  এরাবিয়ান রাইস ( মান্দি )না খেলে জীবন ই...       1\n",
              "2    ২২০ টাকা দিয়ে হেব্বি একটা খাবার খেলাম Bela Bit...       1\n",
              "3    ৩০০ টাকায় পাস্তা পেটেরপান খেতে চলে গেলাম, দ্যা...       1\n",
              "4    গিয়েছিলাম খেতে #Steakout এ অর্ডার করেছিলাম : C...       1\n",
              "..                                                 ...     ...\n",
              "994  #নেগেটিভ_রিভিউ। হাজীর বিরিয়ানী নাজিরাবাজার। ১৬...       0\n",
              "995  আজকের খাবার অভিগ্যতা: ফায়ারফ্লাইস (ধানমন্ডি ২৭...       0\n",
              "996  #নেগেটিভ_রিভিউ। খুব বেশি কিছু বলার নাই শুধু মা...       0\n",
              "997  জঘন্য অভিজ্ঞতা: ইন্ডিয়ান স্পাইসি, বসুন্ধরা সিট...       0\n",
              "998  শপ: টেস্টি ট্রিট। টেস্ট: জঘন্য! মাইনাসে রেটিং ...       0\n",
              "\n",
              "[990 rows x 2 columns]"
            ]
          },
          "metadata": {
            "tags": []
          },
          "execution_count": 19
        }
      ]
    },
    {
      "cell_type": "code",
      "metadata": {
        "colab": {
          "base_uri": "https://localhost:8080/"
        },
        "id": "QF28YRR6T-v4",
        "outputId": "52b254de-1b3e-4c88-a9f3-d6f459a5a3ee"
      },
      "source": [
        "y=to_categorical(df['Rating'])\n",
        "y.shape"
      ],
      "execution_count": 20,
      "outputs": [
        {
          "output_type": "execute_result",
          "data": {
            "text/plain": [
              "(990, 3)"
            ]
          },
          "metadata": {
            "tags": []
          },
          "execution_count": 20
        }
      ]
    },
    {
      "cell_type": "code",
      "metadata": {
        "id": "ilVRSgczT-yy"
      },
      "source": [
        "x_train,x_test,y_train,y_test = train_test_split(x,y,test_size=.2,random_state=2222)"
      ],
      "execution_count": 21,
      "outputs": []
    },
    {
      "cell_type": "code",
      "metadata": {
        "colab": {
          "base_uri": "https://localhost:8080/"
        },
        "id": "u6byBucmUWug",
        "outputId": "1d69103f-f9f5-43b9-f9ce-8b2910c737ff"
      },
      "source": [
        "x_train = np.array(x_train)\n",
        "x_test = np.array(x_test)\n",
        "y_train = np.array(y_train)\n",
        "y_test = np.array(y_test)\n",
        "x_test.shape"
      ],
      "execution_count": 22,
      "outputs": [
        {
          "output_type": "execute_result",
          "data": {
            "text/plain": [
              "(198,)"
            ]
          },
          "metadata": {
            "tags": []
          },
          "execution_count": 22
        }
      ]
    },
    {
      "cell_type": "code",
      "metadata": {
        "id": "iDbvx8foUWxW"
      },
      "source": [
        "max_words = 300\n",
        "max_len = 150\n",
        "tok = Tokenizer(num_words=max_words)\n",
        "tok.fit_on_texts(x_train)\n",
        "sequences = tok.texts_to_sequences(x_train)\n",
        "sequences_matrix = sequence.pad_sequences(sequences,maxlen=max_len)"
      ],
      "execution_count": 23,
      "outputs": []
    },
    {
      "cell_type": "code",
      "metadata": {
        "id": "2hWXGs_-UW0a"
      },
      "source": [
        "\n",
        "def RNN():\n",
        "  inputs = Input(shape=[max_len,])\n",
        "  layer = Embedding(max_words,150,input_length=max_len,)(inputs)\n",
        "  layer = Activation('relu')(layer)\n",
        "  layer = Dropout(.3)(layer)\n",
        "  layer = LSTM(128)(layer)\n",
        "  layer = Dense(128,activation='relu')(layer)\n",
        "  layer = Dropout(.3)(layer)\n",
        "  layer = Dense(3,activation='softmax')(layer)\n",
        "  \n",
        "  model = Model(inputs=inputs,outputs=layer)\n",
        "  return model"
      ],
      "execution_count": 29,
      "outputs": []
    },
    {
      "cell_type": "code",
      "metadata": {
        "colab": {
          "base_uri": "https://localhost:8080/"
        },
        "id": "BWoM6nI2UW3Z",
        "outputId": "74f56e8e-1433-4e38-c1b4-1cea26aa0d13"
      },
      "source": [
        "model = RNN()\n",
        "#model.summary()\n",
        "model.compile(loss='categorical_crossentropy',optimizer=Adam(lr=.0001),metrics=['acc'])"
      ],
      "execution_count": 30,
      "outputs": [
        {
          "output_type": "stream",
          "text": [
            "/usr/local/lib/python3.7/dist-packages/tensorflow/python/keras/optimizer_v2/optimizer_v2.py:375: UserWarning: The `lr` argument is deprecated, use `learning_rate` instead.\n",
            "  \"The `lr` argument is deprecated, use `learning_rate` instead.\")\n"
          ],
          "name": "stderr"
        }
      ]
    },
    {
      "cell_type": "code",
      "metadata": {
        "colab": {
          "base_uri": "https://localhost:8080/",
          "height": 865
        },
        "id": "dDAx0HK-T-2G",
        "outputId": "7d77d6c6-7ba6-4063-e9e0-a994a2fb8365"
      },
      "source": [
        "from tensorflow.keras.utils import plot_model\n",
        "plot_model(model,show_shapes=True,to_file='model.png')"
      ],
      "execution_count": 31,
      "outputs": [
        {
          "output_type": "execute_result",
          "data": {
            "image/png": "[encoded data removed]",
            "text/plain": [
              "<IPython.core.display.Image object>"
            ]
          },
          "metadata": {
            "tags": []
          },
          "execution_count": 31
        }
      ]
    },
    {
      "cell_type": "code",
      "metadata": {
        "colab": {
          "base_uri": "https://localhost:8080/"
        },
        "id": "JAs81ErfUm-H",
        "outputId": "91b174aa-084b-4e49-862d-5fd11ca973fe"
      },
      "source": [
        "history = model.fit(sequences_matrix, y_train, epochs=500, batch_size=128,validation_split=.2)"
      ],
      "execution_count": 36,
      "outputs": [
        {
          "output_type": "stream",
          "text": [
            "Epoch 1/5\n",
            "5/5 [==============================] - 0s 38ms/step - loss: 2.3012e-04 - acc: 1.0000 - val_loss: 2.4452 - val_acc: 0.7421\n",
            "Epoch 2/5\n",
            "5/5 [==============================] - 0s 34ms/step - loss: 5.7110e-05 - acc: 1.0000 - val_loss: 2.4521 - val_acc: 0.7421\n",
            "Epoch 3/5\n",
            "5/5 [==============================] - 0s 30ms/step - loss: 1.0692e-04 - acc: 1.0000 - val_loss: 2.4605 - val_acc: 0.7421\n",
            "Epoch 4/5\n",
            "5/5 [==============================] - 0s 27ms/step - loss: 9.7767e-05 - acc: 1.0000 - val_loss: 2.4712 - val_acc: 0.7421\n",
            "Epoch 5/5\n",
            "5/5 [==============================] - 0s 28ms/step - loss: 9.1378e-05 - acc: 1.0000 - val_loss: 2.4772 - val_acc: 0.7421\n"
          ],
          "name": "stdout"
        }
      ]
    },
    {
      "cell_type": "code",
      "metadata": {
        "colab": {
          "base_uri": "https://localhost:8080/",
          "height": 298
        },
        "id": "MemBC8rAUnBQ",
        "outputId": "399b19bb-2d98-47e8-f57b-bb78bf2084c2"
      },
      "source": [
        "\n",
        "import matplotlib.pyplot as plt\n",
        "\n",
        "acc = history.history['acc']\n",
        "val_acc = history.history['val_acc']\n",
        "loss = history.history['loss']\n",
        "val_loss = history.history['val_loss']\n",
        "plt.plot( acc, 'r', label='Training acc')\n",
        "plt.plot( val_acc, 'b', label='Validation acc')\n",
        "plt.title('Training and validation accuracy')\n",
        "plt.grid()\n",
        "plt.legend()\n",
        "#plt.savefig('/content/accuracy.png')"
      ],
      "execution_count": 37,
      "outputs": [
        {
          "output_type": "execute_result",
          "data": {
            "text/plain": [
              "<matplotlib.legend.Legend at 0x7fc1f96b8950>"
            ]
          },
          "metadata": {
            "tags": []
          },
          "execution_count": 37
        },
        {
          "output_type": "display_data",
          "data": {
            "image/png": "[encoded data removed]",
            "text/plain": [
              "<Figure size 432x288 with 1 Axes>"
            ]
          },
          "metadata": {
            "tags": [],
            "needs_background": "light"
          }
        }
      ]
    },
    {
      "cell_type": "code",
      "metadata": {
        "colab": {
          "base_uri": "https://localhost:8080/",
          "height": 298
        },
        "id": "R-jdwyxPUnEQ",
        "outputId": "97f1a7fc-d785-4a24-b042-ee405247dc85"
      },
      "source": [
        "plt.plot(loss, 'r', label='Training loss')\n",
        "plt.plot(val_loss, 'b', label='Validation loss')\n",
        "plt.title('Training and validation loss')\n",
        "plt.grid()\n",
        "plt.legend()\n",
        "#plt.savefig('/content/loss.png')"
      ],
      "execution_count": 38,
      "outputs": [
        {
          "output_type": "execute_result",
          "data": {
            "text/plain": [
              "<matplotlib.legend.Legend at 0x7fc1f8e56250>"
            ]
          },
          "metadata": {
            "tags": []
          },
          "execution_count": 38
        },
        {
          "output_type": "display_data",
          "data": {
            "image/png": "[encoded data removed]",
            "text/plain": [
              "<Figure size 432x288 with 1 Axes>"
            ]
          },
          "metadata": {
            "tags": [],
            "needs_background": "light"
          }
        }
      ]
    },
    {
      "cell_type": "code",
      "metadata": {
        "colab": {
          "base_uri": "https://localhost:8080/"
        },
        "id": "yVoUXBJOUnIK",
        "outputId": "e010bf53-fb3f-4795-cadd-1593aaa801dd"
      },
      "source": [
        "test_sequences = tok.texts_to_sequences(x_test)\n",
        "\n",
        "test_sequences_matrix = sequence.pad_sequences(test_sequences,maxlen=max_len)\n",
        "\n",
        "accr = model.evaluate(test_sequences_matrix,y_test)\n",
        "print(\"Test set loss :{:0.3f}\\n accuracy : {:0.3f}\".format(accr[0],accr[1]))"
      ],
      "execution_count": 39,
      "outputs": [
        {
          "output_type": "stream",
          "text": [
            "7/7 [==============================] - 0s 8ms/step - loss: 2.1835 - acc: 0.8030\n",
            "Test set loss :2.184\n",
            " accuracy : 0.803\n"
          ],
          "name": "stdout"
        }
      ]
    },
    {
      "cell_type": "code",
      "metadata": {
        "colab": {
          "base_uri": "https://localhost:8080/"
        },
        "id": "6ftZ5ST7U0C4",
        "outputId": "415028f5-91d9-47c5-ebd1-8ec1b42e69f6"
      },
      "source": [
        "from sklearn.metrics import classification_report,confusion_matrix\n",
        "\n",
        "predicted=model.predict(test_sequences_matrix)\n",
        "print(confusion_matrix(y_test.argmax(axis=1), predicted.argmax(axis=1)))\n",
        "print(classification_report(y_test,predicted>.55))"
      ],
      "execution_count": 40,
      "outputs": [
        {
          "output_type": "stream",
          "text": [
            "[[60  4  3]\n",
            " [ 6 50 15]\n",
            " [ 3  8 49]]\n",
            "              precision    recall  f1-score   support\n",
            "\n",
            "           0       0.87      0.90      0.88        67\n",
            "           1       0.81      0.70      0.75        71\n",
            "           2       0.73      0.80      0.76        60\n",
            "\n",
            "   micro avg       0.80      0.80      0.80       198\n",
            "   macro avg       0.80      0.80      0.80       198\n",
            "weighted avg       0.80      0.80      0.80       198\n",
            " samples avg       0.80      0.80      0.80       198\n",
            "\n"
          ],
          "name": "stdout"
        },
        {
          "output_type": "stream",
          "text": [
            "/usr/local/lib/python3.7/dist-packages/sklearn/metrics/_classification.py:1272: UndefinedMetricWarning: Precision and F-score are ill-defined and being set to 0.0 in samples with no predicted labels. Use `zero_division` parameter to control this behavior.\n",
            "  _warn_prf(average, modifier, msg_start, len(result))\n"
          ],
          "name": "stderr"
        }
      ]
    },
    {
      "cell_type": "code",
      "metadata": {
        "colab": {
          "base_uri": "https://localhost:8080/",
          "height": 348
        },
        "id": "s_QpDjlnU0Gr",
        "outputId": "f5847708-82b0-4765-f937-f57cac4a648b"
      },
      "source": [
        "cm = confusion_matrix(y_test.argmax(axis=1), predicted.argmax(axis=1))\n",
        "plt.figure(figsize=(6,5))\n",
        "sns.heatmap(cm,annot=True,fmt='',linewidth=.15,square=True,cmap='Blues_r');\n",
        "plt.xlabel('Predicted Label')\n",
        "plt.ylabel('Actual Label')\n",
        "#plt.savefig('/content/matrix.png')\n",
        "all_sample_title = 'Accuracy Score : {0}'.format(accr[1]*100)\n",
        "plt.title(all_sample_title,size=15);"
      ],
      "execution_count": 41,
      "outputs": [
        {
          "output_type": "display_data",
          "data": {
            "image/png": "[encoded data removed]",
            "text/plain": [
              "<Figure size 432x360 with 2 Axes>"
            ]
          },
          "metadata": {
            "tags": [],
            "needs_background": "light"
          }
        }
      ]
    },
    {
      "cell_type": "code",
      "metadata": {
        "id": "aPSZNa0ZU0Lr"
      },
      "source": [
        "\n",
        "tes = ['লিভারপুলের মতো ভুল করবে না সিটি',\n",
        "       'করোনা মোকাবিলায় যে কৌশলে এগিয়ে দরিদ্র এই দেশগুলো',\n",
        "       'করোনাবশের চেষ্টায় জাপানের গবেষকেরা',\n",
        "       'তথ্যপ্রযুক্তি খাতে বড় বিপর্যয়ের আশঙ্কা',\n",
        "       'ভিডিও কনফারেন্সের সুবিধা নিয়ে এল']\n",
        "t = tok.texts_to_sequences(tes)\n",
        "t = sequence.pad_sequences(t,maxlen=max_len)\n",
        "preds = model.predict(t)\n",
        "print(preds)"
      ],
      "execution_count": null,
      "outputs": []
    }
  ]
}