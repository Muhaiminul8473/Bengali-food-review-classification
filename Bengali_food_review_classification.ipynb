{
  "nbformat": 4,
  "nbformat_minor": 0,
  "metadata": {
    "colab": {
      "name": "Bengali_food_review_classification.ipynb",
      "provenance": [],
      "authorship_tag": "ABX9TyNYJQKO78eWhDp0AzKJdNH6",
      "include_colab_link": true
    },
    "kernelspec": {
      "name": "python3",
      "display_name": "Python 3"
    },
    "accelerator": "GPU"
  },
  "cells": [
    {
      "cell_type": "markdown",
      "metadata": {
        "id": "view-in-github",
        "colab_type": "text"
      },
      "source": [
        "<a href=\"https://colab.research.google.com/github/Muhaiminul8473/Bengali-food-review-classification/blob/main/Bengali_food_review_classification.ipynb\" target=\"_parent\"><img src=\"https://colab.research.google.com/assets/colab-badge.svg\" alt=\"Open In Colab\"/></a>"
      ]
    },
    {
      "cell_type": "code",
      "metadata": {
        "id": "ZrWpVqSEekTl",
        "colab": {
          "base_uri": "https://localhost:8080/"
        },
        "outputId": "ca3963e9-e4ba-4f9d-8da6-b289c9b1675b"
      },
      "source": [
        "from google.colab import drive\n",
        "drive.mount('/content/gdrive')"
      ],
      "execution_count": null,
      "outputs": [
        {
          "output_type": "stream",
          "text": [
            "Mounted at /content/gdrive\n"
          ],
          "name": "stdout"
        }
      ]
    },
    {
      "cell_type": "code",
      "metadata": {
        "id": "KI8NWtgPer9m"
      },
      "source": [
        "import pandas as pd\n",
        "import itertools\n",
        "import os\n",
        "import numpy as np # linear algebra\n",
        "%matplotlib inline\n",
        "import matplotlib.pyplot as plt\n",
        "import numpy as np\n",
        "import pandas as pd\n",
        "import tensorflow as tf\n",
        "\n",
        "from sklearn.preprocessing import LabelBinarizer, LabelEncoder\n",
        "from sklearn.metrics import confusion_matrix\n",
        "\n",
        "from tensorflow import keras\n",
        "import keras.utils as ku\n",
        "from keras.callbacks import EarlyStopping\n",
        "from keras.utils.vis_utils import plot_model\n",
        "from keras.layers import Dropout\n",
        "from keras import optimizers\n",
        "\n",
        "from numpy.random import seed\n",
        "\n",
        "\n",
        "layers = keras.layers\n",
        "models = keras.models"
      ],
      "execution_count": null,
      "outputs": []
    },
    {
      "cell_type": "code",
      "metadata": {
        "id": "hKTMDyEDet3X",
        "colab": {
          "base_uri": "https://localhost:8080/",
          "height": 198
        },
        "outputId": "418aa89f-6938-43f1-f51a-b17affada3d1"
      },
      "source": [
        "df=pd.read_excel(\"/content/gdrive/My Drive/Soultimes_works/SoulTimes.xlsx\")\n",
        "df.head()"
      ],
      "execution_count": null,
      "outputs": [
        {
          "output_type": "execute_result",
          "data": {
            "text/html": [
              "<div>\n",
              "<style scoped>\n",
              "    .dataframe tbody tr th:only-of-type {\n",
              "        vertical-align: middle;\n",
              "    }\n",
              "\n",
              "    .dataframe tbody tr th {\n",
              "        vertical-align: top;\n",
              "    }\n",
              "\n",
              "    .dataframe thead th {\n",
              "        text-align: right;\n",
              "    }\n",
              "</style>\n",
              "<table border=\"1\" class=\"dataframe\">\n",
              "  <thead>\n",
              "    <tr style=\"text-align: right;\">\n",
              "      <th></th>\n",
              "      <th>Reviews</th>\n",
              "      <th>Rating</th>\n",
              "    </tr>\n",
              "  </thead>\n",
              "  <tbody>\n",
              "    <tr>\n",
              "      <th>0</th>\n",
              "      <td>বনশ্রী তে বেস্ট কাচ্চি খাওয়া এখন পর্যন্ত The ...</td>\n",
              "      <td>Best</td>\n",
              "    </tr>\n",
              "    <tr>\n",
              "      <th>1</th>\n",
              "      <td>মিররের  এরাবিয়ান রাইস ( মান্দি )না খেলে জীবন ই...</td>\n",
              "      <td>Best</td>\n",
              "    </tr>\n",
              "    <tr>\n",
              "      <th>2</th>\n",
              "      <td>২২০ টাকা দিয়ে হেব্বি একটা খাবার খেলাম Bela Bit...</td>\n",
              "      <td>Best</td>\n",
              "    </tr>\n",
              "    <tr>\n",
              "      <th>3</th>\n",
              "      <td>৩০০ টাকায় পাস্তা পেটেরপান খেতে চলে গেলাম, দ্যা...</td>\n",
              "      <td>Best</td>\n",
              "    </tr>\n",
              "    <tr>\n",
              "      <th>4</th>\n",
              "      <td>গিয়েছিলাম খেতে #Steakout এ অর্ডার করেছিলাম : C...</td>\n",
              "      <td>Best</td>\n",
              "    </tr>\n",
              "  </tbody>\n",
              "</table>\n",
              "</div>"
            ],
            "text/plain": [
              "                                             Reviews Rating\n",
              "0  বনশ্রী তে বেস্ট কাচ্চি খাওয়া এখন পর্যন্ত The ...   Best\n",
              "1  মিররের  এরাবিয়ান রাইস ( মান্দি )না খেলে জীবন ই...   Best\n",
              "2  ২২০ টাকা দিয়ে হেব্বি একটা খাবার খেলাম Bela Bit...   Best\n",
              "3  ৩০০ টাকায় পাস্তা পেটেরপান খেতে চলে গেলাম, দ্যা...   Best\n",
              "4  গিয়েছিলাম খেতে #Steakout এ অর্ডার করেছিলাম : C...   Best"
            ]
          },
          "metadata": {
            "tags": []
          },
          "execution_count": 4
        }
      ]
    },
    {
      "cell_type": "code",
      "metadata": {
        "id": "jRne7W_-fARS",
        "colab": {
          "base_uri": "https://localhost:8080/"
        },
        "outputId": "22418d6a-491c-4350-d534-3109b49a32d0"
      },
      "source": [
        "for i in range(5):\n",
        "    print(\"Review:\",i+1)\n",
        "    print(\"Textt:\",df.Reviews[i])\n",
        "    print(\"Rating:\",df.Rating[i])"
      ],
      "execution_count": null,
      "outputs": [
        {
          "output_type": "stream",
          "text": [
            "Review: 1\n",
            "Textt: বনশ্রী তে বেস্ট কাচ্চি খাওয়া এখন পর্যন্ত The Mughal Empire এ।\n",
            "Rating: Best\n",
            "Review: 2\n",
            "Textt: মিররের  এরাবিয়ান রাইস ( মান্দি )না খেলে জীবন ই  বৃথা। কয়লা এর ঘ্রাণ / চারকোল ফ্লেভার এর রাইস অন্য কোনো রেস্টুরেন্টে মনে হয় না আছে।  আমি ফার্স্ট টাইম কয়লার স্মেলড  রাইস ট্রাই করলাম।  ফুড টি  খুব টেস্টি ছিল দুই ফ্রেন্ড মিলি হাফ চিকেন উইথ বাসমতি রাইস , এগ আর চাটনি নিমেষেই শেষে করে দিলাম; সফ্ট ড্রিংকস ও ছিল এই কম্বো টি তে।\n",
            "Rating: Best\n",
            "Review: 3\n",
            "Textt: ২২০ টাকা দিয়ে হেব্বি একটা খাবার খেলাম Bela Bite shamoli থেকে । বারবি কিউ চিকেন , মাসালা চিকেন কারি , ফ্রাইড রাইছ , নুডুস , পাস্তা , সুপ , আইছ ক্রিম সব ছিল ১ টা প্লাটার এর মধ্যে । খাবারটা যদিও দুপুর এর লাঞ্চ এর জন্য বেস্ট , কিন্তু আজ রাতের ডিনার হিশাবে খেলাম ।\n",
            "Rating: Best\n",
            "Review: 4\n",
            "Textt: ৩০০ টাকায় পাস্তা পেটেরপান খেতে চলে গেলাম, দ্যা ডাইনিং লঞ্চ।\n",
            "Rating: Best\n",
            "Review: 5\n",
            "Textt: গিয়েছিলাম খেতে #Steakout এ অর্ডার করেছিলাম : Cheese Tender Steak টেন্ডালইন এর একটা পার্ট থেকে করা হয়, অনেক বেশি সফট আর জুসি।চ্যাডার চিজ দিয়ে করা হয় সাথে অনিয়ন আর মাশরুম এর কম্বিনেশনে বানানো। মাংস ছোট স্লাইস করে কাটা থাকে তাই কাটার ঝামেলা মুক্ত। মাংসের পরিমান বেশ অনেক।সাইড ডিশ হিসেবে নিয়েছিলাম1.Mash Potato 2.Apple Salad স্টেক টা অস্থির ❤ট্রাই মারা উচিত আমি মনে করি। স্টেকটা বেশ ভালো রকমের সফট আর জুসি আর চ্যাডার চিজ দিয়ে করা হয়। আর ওনিয়ন আর মাশরুমের কম্বিনেশন ত আছেই।\n",
            "Rating: Best\n"
          ],
          "name": "stdout"
        }
      ]
    },
    {
      "cell_type": "code",
      "metadata": {
        "id": "64sCBRNpjXeC"
      },
      "source": [
        "contractions = { \n",
        "\"বি.দ্র \": \"বিশেষ দ্রষ্টব্য\",\n",
        "\"ড.\": \"ডক্টর\",\n",
        "\"ডা.\": \"ডাক্তার\",\n",
        "\"ইঞ্জি:\": \"ইঞ্জিনিয়ার\",\n",
        "\"রেজি:\": \"রেজিস্ট্রেশন\",\n",
        "\"মি.\": \"মিস্টার\",\n",
        "\"মু.\": \"মুহাম্মদ\",\n",
        "\"মো.\": \"মোহাম্মদ\",\n",
        "}"
      ],
      "execution_count": null,
      "outputs": []
    },
    {
      "cell_type": "code",
      "metadata": {
        "id": "-bd_Ablcjdjg"
      },
      "source": [
        "import string\n",
        "import re\n",
        "def clean_text(text,remove_stopwords = False):\n",
        "    if True:\n",
        "        text = text.split()\n",
        "        new_text = []\n",
        "        for word in text:\n",
        "            if word in contractions:\n",
        "                new_text.append(contractions[word])\n",
        "            else:\n",
        "                new_text.append(word)\n",
        "        text = \" \".join(new_text)\n",
        "    # Format words and remove unwanted characters\n",
        "    whitespace = re.compile(u\"[\\s\\u0020\\u00a0\\u1680\\u180e\\u202f\\u205f\\u3000\\u2000-\\u200a]+\", re.UNICODE)\n",
        "    bangla_digits = u\"[\\u09E6\\u09E7\\u09E8\\u09E9\\u09EA\\u09EB\\u09EC\\u09ED\\u09EE\\u09EF]+\"\n",
        "    english_chars = u\"[a-zA-Z0-9]\"\n",
        "    punc = u\"[(),$%^&*+={}\\[\\]:\\\"|\\'\\~`<>/,¦!?½£¶¼©⅐⅑⅒⅓⅔⅕⅖⅗⅘⅙⅚⅛⅜⅝⅞⅟↉¤¿º;-]+\"\n",
        "    bangla_fullstop = u\"\\u0964\"     #bangla fullstop(dari)\n",
        "    \n",
        "    punctSeq   = u\"['\\\"“”‘’]+|[.?!,…]+|[:;]+\"\n",
        "    \n",
        "    text = re.sub(bangla_digits, \" \", text)\n",
        "    text = re.sub(punc, \" \", text)\n",
        "    text = re.sub(english_chars, \" \", text)\n",
        "    text = re.sub(bangla_fullstop, \" \", text)\n",
        "    text = re.sub(punctSeq, \" \", text)\n",
        "    text = whitespace.sub(\" \", text).strip()\n",
        "    \n",
        "   \n",
        "            \n",
        "    return text"
      ],
      "execution_count": null,
      "outputs": []
    },
    {
      "cell_type": "code",
      "metadata": {
        "id": "8wZo-j1fjh8o"
      },
      "source": [
        "clean_type = []\n",
        "for newstype in df.Rating:\n",
        "    clean_type.append(clean_text(newstype,remove_stopwords=True))\n",
        "\n",
        "clean_texts = []\n",
        "for text in df.Reviews:\n",
        "    clean_texts.append(clean_text(text))"
      ],
      "execution_count": null,
      "outputs": []
    },
    {
      "cell_type": "code",
      "metadata": {
        "id": "d7FqjAcbj4tw",
        "colab": {
          "base_uri": "https://localhost:8080/"
        },
        "outputId": "0b30abf7-ddde-4e9a-f126-dc0525978ec2"
      },
      "source": [
        "df['Rating'].value_counts()"
      ],
      "execution_count": null,
      "outputs": [
        {
          "output_type": "execute_result",
          "data": {
            "text/plain": [
              "Good     224\n",
              "Best     140\n",
              "Bad       34\n",
              "Best       1\n",
              "Name: Rating, dtype: int64"
            ]
          },
          "metadata": {
            "tags": []
          },
          "execution_count": 9
        }
      ]
    },
    {
      "cell_type": "code",
      "metadata": {
        "id": "C3LbZiG9j7rg",
        "colab": {
          "base_uri": "https://localhost:8080/"
        },
        "outputId": "f2063653-be94-4ee0-b950-9f8b385cd52c"
      },
      "source": [
        "train_size = int(len(df) * .80)\n",
        "print (\"Train size: %d\" % train_size)\n",
        "print (\"Test size: %d\" % (len(df) - train_size))"
      ],
      "execution_count": null,
      "outputs": [
        {
          "output_type": "stream",
          "text": [
            "Train size: 319\n",
            "Test size: 80\n"
          ],
          "name": "stdout"
        }
      ]
    },
    {
      "cell_type": "code",
      "metadata": {
        "id": "MvOEN0VxkR-P"
      },
      "source": [
        "def train_test_split(df, train_size):\n",
        "    train = df[:train_size]\n",
        "    test = df[train_size:]\n",
        "    return train, test"
      ],
      "execution_count": null,
      "outputs": []
    },
    {
      "cell_type": "code",
      "metadata": {
        "id": "dlria3O1kVcv"
      },
      "source": [
        "train_cat, test_cat = train_test_split(df['Rating'], train_size,)\n",
        "train_text, test_text = train_test_split(df['Reviews'], train_size,)"
      ],
      "execution_count": null,
      "outputs": []
    },
    {
      "cell_type": "code",
      "metadata": {
        "id": "l9ULPhJCkeX_"
      },
      "source": [
        "max_words = 5000\n",
        "tokenize = keras.preprocessing.text.Tokenizer(num_words=max_words, \n",
        "                                              char_level=False)"
      ],
      "execution_count": null,
      "outputs": []
    },
    {
      "cell_type": "code",
      "metadata": {
        "id": "RhpIHEG2kubA"
      },
      "source": [
        "tokenize.fit_on_texts(train_text)\n",
        "x_train = tokenize.texts_to_matrix(train_text)\n",
        "x_test = tokenize.texts_to_matrix(test_text)"
      ],
      "execution_count": null,
      "outputs": []
    },
    {
      "cell_type": "code",
      "metadata": {
        "id": "MkJ1fvdQk0CY"
      },
      "source": [
        "encoder = LabelEncoder()\n",
        "encoder.fit(train_cat)\n",
        "y_train = encoder.transform(train_cat)\n",
        "y_test = encoder.transform(test_cat)"
      ],
      "execution_count": null,
      "outputs": []
    },
    {
      "cell_type": "code",
      "metadata": {
        "id": "AZG7Ht9lk3-X"
      },
      "source": [
        "num_classes = np.max(y_train) + 1\n",
        "y_train = keras.utils.to_categorical(y_train, num_classes)\n",
        "y_test = keras.utils.to_categorical(y_test, num_classes)"
      ],
      "execution_count": null,
      "outputs": []
    },
    {
      "cell_type": "code",
      "metadata": {
        "id": "73IEk6tKk8jn",
        "colab": {
          "base_uri": "https://localhost:8080/"
        },
        "outputId": "c799837a-e431-4e69-9ef1-ec28b2749fbc"
      },
      "source": [
        "print('x_train shape:', x_train.shape)\n",
        "print('x_test shape:', x_test.shape)\n",
        "print('y_train shape:', y_train.shape)\n",
        "print('y_test shape:', y_test.shape)"
      ],
      "execution_count": null,
      "outputs": [
        {
          "output_type": "stream",
          "text": [
            "x_train shape: (319, 5000)\n",
            "x_test shape: (80, 5000)\n",
            "y_train shape: (319, 4)\n",
            "y_test shape: (80, 4)\n"
          ],
          "name": "stdout"
        }
      ]
    },
    {
      "cell_type": "code",
      "metadata": {
        "id": "Ew6y0sBkk_b3"
      },
      "source": [
        "batch_size = 16\n",
        "epochs = 50\n",
        "adam=keras.optimizers.Adam(learning_rate=0.0005, beta_1=0.9, beta_2=0.999, amsgrad=False)"
      ],
      "execution_count": null,
      "outputs": []
    },
    {
      "cell_type": "code",
      "metadata": {
        "id": "VdpR7dgilJym",
        "colab": {
          "base_uri": "https://localhost:8080/"
        },
        "outputId": "5ae29d1c-6cd6-4465-9951-ee8b01829c00"
      },
      "source": [
        "model = models.Sequential()\n",
        "model.add(layers.Dense(16,kernel_initializer='uniform',input_shape=(max_words,)))\n",
        "model.add(layers.Dropout(0.2))\n",
        "model.add(layers.Activation('relu'))\n",
        "model.add(layers.Dense(num_classes))\n",
        "model.add(layers.Dropout(0.2))\n",
        "model.add(layers.Activation('softmax'))\n",
        "model.compile(loss='categorical_crossentropy',optimizer=adam,metrics=['accuracy'])\n",
        "model.summary()"
      ],
      "execution_count": null,
      "outputs": [
        {
          "output_type": "stream",
          "text": [
            "Model: \"sequential\"\n",
            "_________________________________________________________________\n",
            "Layer (type)                 Output Shape              Param #   \n",
            "=================================================================\n",
            "dense (Dense)                (None, 16)                80016     \n",
            "_________________________________________________________________\n",
            "dropout (Dropout)            (None, 16)                0         \n",
            "_________________________________________________________________\n",
            "activation (Activation)      (None, 16)                0         \n",
            "_________________________________________________________________\n",
            "dense_1 (Dense)              (None, 4)                 68        \n",
            "_________________________________________________________________\n",
            "dropout_1 (Dropout)          (None, 4)                 0         \n",
            "_________________________________________________________________\n",
            "activation_1 (Activation)    (None, 4)                 0         \n",
            "=================================================================\n",
            "Total params: 80,084\n",
            "Trainable params: 80,084\n",
            "Non-trainable params: 0\n",
            "_________________________________________________________________\n"
          ],
          "name": "stdout"
        }
      ]
    },
    {
      "cell_type": "code",
      "metadata": {
        "id": "36--RW4_lNbe",
        "colab": {
          "base_uri": "https://localhost:8080/"
        },
        "outputId": "8b2c6bac-3ca0-4544-d3d5-47d4b980053b"
      },
      "source": [
        "history = model.fit(x_train, y_train,\n",
        "                    batch_size=batch_size,\n",
        "                    epochs=epochs,\n",
        "                    verbose=2,\n",
        "                    validation_split=0.2)"
      ],
      "execution_count": null,
      "outputs": [
        {
          "output_type": "stream",
          "text": [
            "Epoch 1/50\n",
            "16/16 - 2s - loss: 1.3106 - accuracy: 0.3725 - val_loss: 1.1332 - val_accuracy: 0.5469\n",
            "Epoch 2/50\n",
            "16/16 - 0s - loss: 1.1363 - accuracy: 0.5647 - val_loss: 1.0126 - val_accuracy: 0.5781\n",
            "Epoch 3/50\n",
            "16/16 - 0s - loss: 0.9724 - accuracy: 0.6000 - val_loss: 0.9323 - val_accuracy: 0.6250\n",
            "Epoch 4/50\n",
            "16/16 - 0s - loss: 0.8789 - accuracy: 0.6784 - val_loss: 0.8792 - val_accuracy: 0.5938\n",
            "Epoch 5/50\n",
            "16/16 - 0s - loss: 0.7646 - accuracy: 0.7412 - val_loss: 0.8457 - val_accuracy: 0.6094\n",
            "Epoch 6/50\n",
            "16/16 - 0s - loss: 0.7042 - accuracy: 0.7294 - val_loss: 0.8223 - val_accuracy: 0.6094\n",
            "Epoch 7/50\n",
            "16/16 - 0s - loss: 0.6569 - accuracy: 0.7647 - val_loss: 0.8005 - val_accuracy: 0.6406\n",
            "Epoch 8/50\n",
            "16/16 - 0s - loss: 0.5984 - accuracy: 0.7804 - val_loss: 0.7842 - val_accuracy: 0.6250\n",
            "Epoch 9/50\n",
            "16/16 - 0s - loss: 0.5252 - accuracy: 0.8275 - val_loss: 0.7684 - val_accuracy: 0.6875\n",
            "Epoch 10/50\n",
            "16/16 - 0s - loss: 0.4607 - accuracy: 0.8667 - val_loss: 0.7559 - val_accuracy: 0.6875\n",
            "Epoch 11/50\n",
            "16/16 - 0s - loss: 0.4485 - accuracy: 0.8510 - val_loss: 0.7464 - val_accuracy: 0.6875\n",
            "Epoch 12/50\n",
            "16/16 - 0s - loss: 0.3470 - accuracy: 0.9098 - val_loss: 0.7371 - val_accuracy: 0.6719\n",
            "Epoch 13/50\n",
            "16/16 - 0s - loss: 0.3871 - accuracy: 0.8667 - val_loss: 0.7245 - val_accuracy: 0.6719\n",
            "Epoch 14/50\n",
            "16/16 - 0s - loss: 0.3278 - accuracy: 0.8902 - val_loss: 0.7174 - val_accuracy: 0.6719\n",
            "Epoch 15/50\n",
            "16/16 - 0s - loss: 0.3008 - accuracy: 0.9059 - val_loss: 0.7091 - val_accuracy: 0.6719\n",
            "Epoch 16/50\n",
            "16/16 - 0s - loss: 0.2753 - accuracy: 0.9373 - val_loss: 0.7056 - val_accuracy: 0.6719\n",
            "Epoch 17/50\n",
            "16/16 - 0s - loss: 0.2943 - accuracy: 0.8941 - val_loss: 0.6976 - val_accuracy: 0.6719\n",
            "Epoch 18/50\n",
            "16/16 - 0s - loss: 0.2331 - accuracy: 0.9294 - val_loss: 0.6944 - val_accuracy: 0.6719\n",
            "Epoch 19/50\n",
            "16/16 - 0s - loss: 0.2544 - accuracy: 0.9176 - val_loss: 0.6999 - val_accuracy: 0.6719\n",
            "Epoch 20/50\n",
            "16/16 - 0s - loss: 0.2268 - accuracy: 0.9333 - val_loss: 0.6986 - val_accuracy: 0.6719\n",
            "Epoch 21/50\n",
            "16/16 - 0s - loss: 0.2648 - accuracy: 0.8745 - val_loss: 0.6990 - val_accuracy: 0.6719\n",
            "Epoch 22/50\n",
            "16/16 - 0s - loss: 0.2183 - accuracy: 0.9176 - val_loss: 0.7077 - val_accuracy: 0.6875\n",
            "Epoch 23/50\n",
            "16/16 - 0s - loss: 0.2121 - accuracy: 0.9255 - val_loss: 0.7092 - val_accuracy: 0.6875\n",
            "Epoch 24/50\n",
            "16/16 - 0s - loss: 0.1664 - accuracy: 0.9216 - val_loss: 0.7117 - val_accuracy: 0.6875\n",
            "Epoch 25/50\n",
            "16/16 - 0s - loss: 0.1659 - accuracy: 0.9451 - val_loss: 0.7182 - val_accuracy: 0.6719\n",
            "Epoch 26/50\n",
            "16/16 - 0s - loss: 0.1854 - accuracy: 0.9176 - val_loss: 0.7184 - val_accuracy: 0.6875\n",
            "Epoch 27/50\n",
            "16/16 - 0s - loss: 0.1698 - accuracy: 0.9137 - val_loss: 0.7198 - val_accuracy: 0.7031\n",
            "Epoch 28/50\n",
            "16/16 - 0s - loss: 0.1860 - accuracy: 0.9020 - val_loss: 0.7236 - val_accuracy: 0.7188\n",
            "Epoch 29/50\n",
            "16/16 - 0s - loss: 0.1796 - accuracy: 0.9059 - val_loss: 0.7352 - val_accuracy: 0.6875\n",
            "Epoch 30/50\n",
            "16/16 - 0s - loss: 0.1192 - accuracy: 0.9647 - val_loss: 0.7362 - val_accuracy: 0.7188\n",
            "Epoch 31/50\n",
            "16/16 - 0s - loss: 0.1452 - accuracy: 0.9333 - val_loss: 0.7448 - val_accuracy: 0.7031\n",
            "Epoch 32/50\n",
            "16/16 - 0s - loss: 0.1441 - accuracy: 0.9373 - val_loss: 0.7412 - val_accuracy: 0.7031\n",
            "Epoch 33/50\n",
            "16/16 - 0s - loss: 0.1582 - accuracy: 0.9216 - val_loss: 0.7421 - val_accuracy: 0.7031\n",
            "Epoch 34/50\n",
            "16/16 - 0s - loss: 0.1571 - accuracy: 0.9294 - val_loss: 0.7433 - val_accuracy: 0.7031\n",
            "Epoch 35/50\n",
            "16/16 - 0s - loss: 0.1374 - accuracy: 0.9255 - val_loss: 0.7674 - val_accuracy: 0.7031\n",
            "Epoch 36/50\n",
            "16/16 - 0s - loss: 0.1371 - accuracy: 0.9137 - val_loss: 0.7716 - val_accuracy: 0.6875\n",
            "Epoch 37/50\n",
            "16/16 - 0s - loss: 0.1419 - accuracy: 0.9176 - val_loss: 0.7734 - val_accuracy: 0.7031\n",
            "Epoch 38/50\n",
            "16/16 - 0s - loss: 0.1444 - accuracy: 0.9255 - val_loss: 0.7798 - val_accuracy: 0.6875\n",
            "Epoch 39/50\n",
            "16/16 - 0s - loss: 0.1311 - accuracy: 0.9294 - val_loss: 0.7822 - val_accuracy: 0.7031\n",
            "Epoch 40/50\n",
            "16/16 - 0s - loss: 0.1345 - accuracy: 0.9294 - val_loss: 0.7736 - val_accuracy: 0.6875\n",
            "Epoch 41/50\n",
            "16/16 - 0s - loss: 0.1227 - accuracy: 0.9490 - val_loss: 0.7807 - val_accuracy: 0.7031\n",
            "Epoch 42/50\n",
            "16/16 - 0s - loss: 0.1177 - accuracy: 0.9451 - val_loss: 0.7892 - val_accuracy: 0.6875\n",
            "Epoch 43/50\n",
            "16/16 - 0s - loss: 0.1190 - accuracy: 0.9451 - val_loss: 0.7961 - val_accuracy: 0.7031\n",
            "Epoch 44/50\n",
            "16/16 - 0s - loss: 0.1429 - accuracy: 0.9255 - val_loss: 0.7947 - val_accuracy: 0.6875\n",
            "Epoch 45/50\n",
            "16/16 - 0s - loss: 0.1079 - accuracy: 0.9412 - val_loss: 0.7884 - val_accuracy: 0.7188\n",
            "Epoch 46/50\n",
            "16/16 - 0s - loss: 0.1283 - accuracy: 0.9294 - val_loss: 0.7897 - val_accuracy: 0.7031\n",
            "Epoch 47/50\n",
            "16/16 - 0s - loss: 0.1203 - accuracy: 0.9294 - val_loss: 0.7920 - val_accuracy: 0.7031\n",
            "Epoch 48/50\n",
            "16/16 - 0s - loss: 0.1221 - accuracy: 0.9216 - val_loss: 0.7963 - val_accuracy: 0.6875\n",
            "Epoch 49/50\n",
            "16/16 - 0s - loss: 0.1025 - accuracy: 0.9373 - val_loss: 0.8007 - val_accuracy: 0.7031\n",
            "Epoch 50/50\n",
            "16/16 - 0s - loss: 0.1029 - accuracy: 0.9216 - val_loss: 0.7990 - val_accuracy: 0.6875\n"
          ],
          "name": "stdout"
        }
      ]
    },
    {
      "cell_type": "code",
      "metadata": {
        "id": "2eSrF8VPlS0O",
        "colab": {
          "base_uri": "https://localhost:8080/"
        },
        "outputId": "37e99b82-6f47-423c-dfdd-d5d16f695b70"
      },
      "source": [
        "score = model.evaluate(x_train, y_train,\n",
        "                       batch_size=batch_size, verbose=2)\n",
        "print('Train loss:', score[0])\n",
        "print('Train accuracy:', score[1])"
      ],
      "execution_count": null,
      "outputs": [
        {
          "output_type": "stream",
          "text": [
            "20/20 - 0s - loss: 0.1676 - accuracy: 0.9373\n",
            "Train loss: 0.16758811473846436\n",
            "Train accuracy: 0.9373040795326233\n"
          ],
          "name": "stdout"
        }
      ]
    },
    {
      "cell_type": "code",
      "metadata": {
        "id": "Qf0M-oq8lX6W",
        "colab": {
          "base_uri": "https://localhost:8080/",
          "height": 336
        },
        "outputId": "7de71d57-fc6a-498e-f0f5-05d90aeb015b"
      },
      "source": [
        "def plot_history(history):\n",
        "    acc = history.history['accuracy']\n",
        "    val_acc = history.history['val_accuracy']\n",
        "    loss = history.history['loss']\n",
        "    val_loss = history.history['val_loss']\n",
        "    x = range(1, len(acc) + 1)\n",
        "    \n",
        "    plt.figure(figsize=(12, 5))\n",
        "    plt.subplot(1, 2, 1)\n",
        "    plt.plot(x, acc, 'b', label='Training accuracy')\n",
        "    plt.plot(x, val_acc, 'r', label='Validation accuracy')\n",
        "    plt.title('Training and validation accuracy')\n",
        "    plt.legend()\n",
        "    plt.subplot(1, 2, 2)\n",
        "    plt.plot(x, loss, 'b', label='Training loss')\n",
        "    plt.plot(x, val_loss, 'r', label='Validation loss')\n",
        "    plt.title('Training and validation loss')\n",
        "    plt.legend()\n",
        "plot_history(history)"
      ],
      "execution_count": null,
      "outputs": [
        {
          "output_type": "display_data",
          "data": {
            "image/png": "[encoded data removed]",
            "text/plain": [
              "<Figure size 864x360 with 2 Axes>"
            ]
          },
          "metadata": {
            "tags": [],
            "needs_background": "light"
          }
        }
      ]
    },
    {
      "cell_type": "code",
      "metadata": {
        "id": "xbZ3RRYjlgz2",
        "colab": {
          "base_uri": "https://localhost:8080/"
        },
        "outputId": "b4eb1e28-708d-4bc0-9eec-e800d713f571"
      },
      "source": [
        "text_labels = encoder.classes_ \n",
        "for i in range(20):\n",
        "    prediction = model.predict(np.array([x_test[i]]))\n",
        "    predicted_label = text_labels[np.argmax(prediction)]\n",
        "    print(test_text.iloc[i][:2000], \"...\")\n",
        "    print('Actual NewsType:' + test_cat.iloc[i])\n",
        "    print(\"Predicted NewsType: \" + predicted_label + \"\\n\") "
      ],
      "execution_count": null,
      "outputs": [
        {
          "output_type": "stream",
          "text": [
            "খাওয়া দাওয়া বোধহয় শুরুই করে দিলাম।বার্গার হাউজে চলছে বার্গারের উপর অফার।। ব্যপারটা অনেকটা হুট করেই পাওয়ার মত। বলানাই কওয়া নাই বার্গার খাওয়ার কেরা উটলো। ছিলাম উত্তরা, চলে গেলাম কফিলিসিয়াসে। ওমা, একটা অর্ডার করবো যখন তারা বলল তখন যদি কিনেন একটা বার্গার পাশে পাইবেন আরেকটা বার্গার। বার্গারে মাংসের উপস্থিতি আলহামদুলিল্লাহ ভাল। কামড়ে কামড়ে পাবেন। সাথে বারবিকিউ সস, মায়ো আর হাল্কা টোস্টেড ব্রেডে চমৎকার ছিল বার্গারটি। অর্ডার করলামঃ চিকেন বারবিকিউ বার্গার; দামঃ ১৬০ টাকা! ...\n",
            "Actual NewsType:Best\n",
            "Predicted NewsType: Good\n",
            "\n",
            "# দই ফুচকা,,,,, টক ঝাল আর মিষ্টি, একটি খাবার,  অনেকের কাছেই এটা খুব প্রিয়, # চিকেন কারি ছোলাবাটরা, এটি একটি ভারতিও জনপ্রিয় একটি খাবার, দিন দিন আমাদের দেশেও, এটি অনেক জনপ্রিয় খাবার হিশেবে পরিচিত হয়ে গেছে, এটি দুটি লুচির সাথে অনেক গুলো মজাদার, কারি থাকে, তাই কারো কাছে একটা কারি ভালো না লাগলে আর একটা ভালো লাগবেই, তবে দোসা হাট চাই সব গুলো কারি যেন অনেক মজা হয় এবং সবাই তৃপ্তি নিয়ে খেতে পারেন,,আমাদের এই চেষ্টা অবহৃত থাকবে ইনশাআল্লাহ, চিকেন কারি ছোলাবাটরা ১২০৳ ; দই ফুচকা,,,,,,,,,,,,,,,,,,,,,,,,, ৮০ ৳; লোকেশন আদাবর রিং রোড জনতা হাউজিং সোসাইটির ২ নং রোডে শাহাবুদ্দিন প্লাজা নিচে! ...\n",
            "Actual NewsType:Good\n",
            "Predicted NewsType: Good\n",
            "\n",
            "যদিও আমি আগে ২ বার তাদের পিজ্জা খেয়েছি তার পরেও অদের পিজ্জার রিভিও দেখে আর বসে থাকতে পারলাম না।অইদিন দেখলাম এক ভাই ওদের ইয়াম স্পেশাল পিজ্জার রেভিও দিলো তাই ওরডার করে দিলাম . ২ জন মিলে অডার করলাম ওদের বীফ লাভারস পিজ্জা আর সাথে ডিংকস। পিজ্জার স্বাদ এর কথা আর নতুন করে কি বলবো কারন আমি আগে ও ওদের পিজ্জার টেস্ট ভালো পেয়াছি। তবে হে আসলেই ওদের গারলিক সস না বললে না অনেক বেশি মজার । রেভিএও থেকেও বাস্তবে আরও অনেক ভালো ছিল। পিজ্জার টেস্ট সাথে গারলিক সস ভালোই লেগেছে। ...\n",
            "Actual NewsType:Good\n",
            "Predicted NewsType: Good\n",
            "\n",
            "সুলতান্স ডাইন তে এখন ১ জনের বাসমতি কাচ্চি টেকএওয়ে মাত্র ২৫০ টাকায়!!! সুলতান্স ডাইন এ এখন নিউ ম্যানুতে টেকএওয়ে প্লেটার এনেছে, যাতে কম প্রাইসে বাসায় বসেই সেইফ থেকে কাচ্চি ক্রেভিং শেষ করা যায়... সুলতান্স ডাইনের হাই-প্রাইস নিয়ে কাচ্চি লাভারদের মতবিরোধ সেই শুরু থেকেই, এখন তারা পছন্দসই প্রাইস দিয়েছে টেকএওয়ের এর জন্য।। আমি অর্ডার কাচ্চির সাথে বোরহানী আর ফিরনী পছন্দ করি তাই ৩৩০ টাকার টেক-এওয়ে টা অর্ডার করে নেই। ২ পিস নরম তুলতুলে খাশির পিস, মাটন পিস গুলা বেশ বড়ই ছিলো, রাইস ১ জনের জন্য বেশি হয়ে যাবে। খাবার এর স্বাদ এবং মান একদম টপ ক্লাস। ফিরনী সবসময়ের মত খুবই টেস্টি। বোরহানীও খুব ভালো লেগেছে। ...\n",
            "Actual NewsType:Best\n",
            "Predicted NewsType: Best\n",
            "\n",
            "কফি বিডি ঘর🔥নতুন রেস্টুরেন্ট নতুন টেস্ট🤤 নিয়েছিলাম মাসালা পটেটোস এন্ড আমার প্রিয় চিকেন চিজ বার্গার!আর সাথে ফ্রিজ চকো কফি!মাসালা পটেটোস গুলো সল্টি ছিলো মেয়ো দিয়ে খেতে দারুন লাগে!😉✨ তবে মেয়োতে কোন ইউনিক টেস্ট পাইনি একদম নরমাল ছিলো! চিকেন চিজ বার্গার অত্যন্ত চিজি ছিলো,প্রতি বাইটেই চিকেনের টেস্ট পাওয়া যায়😌 এতে বিদ্যমান পেয়াজ এর টেস্ট বহু গুন বাড়িয়ে দেয়! ফ্রিজ চকো কফি চক্লেটি ছিলো অনেক আমার কাছে ভালোই লেগেছে! ...\n",
            "Actual NewsType:Good\n",
            "Predicted NewsType: Good\n",
            "\n",
            "কুরবানী আসতে আসতে বেশ দেরী কিন্তু বিফ আইটেম খাওয়ার জন্য মনে তর সইছে না, এজন্যই গেলাম রোড সাইড কিচেনে এ সস্তায় ডাবল বিফ প্যাটি বার্গার খেতে তাও মাত্র ২৫০ টাকায়...।হাম্বা বার্গারের এই প্লেটারে ছিলো :- ১) বার্গার ( প্যাটি ডাবল বিফ) ২)ফ্রেঞ্চ ফ্রাই (ভালো পরিমান ছিলো) ৩)হানি মাস্টার্ড সস (স্পেশাল); বার্গার এ বান টা সফট ছিলো,বার্গার এ চিজ স্লাইস দিয়েছিলো ২ টা, আর প্যাটি ছিলো বিফ। অনেক ফেনসি একটা বার্গার, লুক আর ডেকোরেশন পারফেক্ট। খেতে ভালো ছিলো, অনেক সুন্দর একটা বিফ ফ্লেভার আসছিলো প্রতি বাইটে। আর সাথে হানি মাস্টার্ড সস টা দিয়ে ফ্রেঞ্চ ফ্রাই, খুবই কোয়ালিটি বার্গার লেগেছে এককথায়😊 প্রাইস - ২৫০ টাকা মাত্র, ভ্যাট নেই! ...\n",
            "Actual NewsType:Good\n",
            "Predicted NewsType: Good\n",
            "\n",
            "অনেক দিন পর স্যান্ডউইচ এর সাথে সাক্ষাৎ !! বাসার সামনে যদি নতুন কোনো রেস্টুরেন্ট খুলেলে একজন ফুডি হিসেবে না যাওয়াটা অসম্ভব কিছু না! তাদের খাবার এর কথা শেয়ার করি কারণ খাবার এত ____ লেগেছে না বলে থাকা যায় না! (পুরা লিখা পরেন!আগেই জান্তে চান কেনো খাবার ভালো না খারাপ!?) আমি চিকেন স্যান্ডউইচ আর কফি নিয়েছিলাম! আগেত কফি কথা বলি! এইটা খাবার পর আপনাদের অন্য কফি কথা ভুলে যাবেন! স্যান্ডউইচ প্রচন্ড পরিমাণের জুসি! প্রচুর! মুখে দিলে মাংস মেল্ট হয়ে যাবে সাইজ এও বড় ২ জনের স্ন্যকস হয়ে যাবে! প্লেস: বাজেট এর মধ্যে চুটিয়ে আড্ডা দিতে পারবেন! ...\n",
            "Actual NewsType:Good\n",
            "Predicted NewsType: Good\n",
            "\n",
            "কাবাব আমার অনেক পছন্দের একটা আইটেম। সেখানে যদি হয় বাই ওয়ান গেট ওয়ান এই অফার হাতছাড়া করা যায় না। তাই গতকাল অফারের পোস্ট দেখেই গিয়েছুকাম। কাবাব হাউজ এ। তাদের কাবাব আইটেম আগে থেকেই আমার পছন্দের তার উপর অফার। তাই নিজেকে সামলাতে পারলাম না। অফারে তাদের কাবাবের পরিমান ছিলো আগের মতোই। আর স্বাদ অনেক বেশি মজা। গ্রেভিটার স্বাদ আমার কাছে ভালো লাগে বেশি৷ কাশ্মিরী নান নিয়ে ছিলাম সাথে। ২ টার স্বাদই অসাধারণ ছিলো। ...\n",
            "Actual NewsType:Good\n",
            "Predicted NewsType: Good\n",
            "\n",
            "সবাইতো বিভিন্ন জায়গার পিজ্জা খেয়ে থাকেন,তো আজ যে পিজ্জার কথা বলবো তা আমার মতে আপনাদের সবার উচিত অবশ্যই ট্রাই করা৷ পিজ্জা হাউজ এর পিজ্জা!! হ্যাঁ,সবাই যেদিকে গিফ্ট পেয়ে খুশি আর সব রেস্টুরেন্ট যেদিকে ফুড সারপ্রাইজ দিচ্ছে সেদিকে তারাও করে ফেলল একটি কন্টেস্ট৷এবং সৌভাগ্যবশত আমি উইনার হই৷🤗 চিজ আর চিকেনে ভরপুর এই পিজ্জা মুখের স্বাদ যেনো দ্বিগুণ করে দেয়৷😋🤤তাছাড়া ওয়েল কুকডও ছিল যার কারণে আমি কোনো কমতি দেখিনি৷😌 তারা আরো বিভিন্ন কন্টেস্টের আয়োজন করছে,আপনারাও চাইলে জয়েন করতে পারেন আশাহত হবেন না৷ ...\n",
            "Actual NewsType:Best\n",
            "Predicted NewsType: Good\n",
            "\n",
            "সচরাচর খাবার খেয়ে রিভিউ দেয়া হয়না আমার। তবে যদি স্পেশাল কিছু হয় তাহলে মন থেকেই চায় রিভিউ দেই। বাসার কাছে হওয়ায় ওয়াটারফল এ প্রায়ই খাওয়া হত। ওদের খাবার বরাবই খুব টেস্টি। তাজ বিরানি, খিচুড়ি খেয়ে সবসমই বলতাম কাচ্চি করেন না কেন আপনারা। অবশেষে বাসমতি কাচ্চি চালু করেছে তারা। টেস্ট সিম্পলি অসাম। মশলা আর মাখো মাখো রাইস, নরম মাংস, আর স্পেশালি কাচ্চির ঘ্রাণ। উফফফ ! আবার জিভে জল চলে আসছে। ৩ ফ্রেন্ড মিলে গিয়েছিলাম। স্পেশাল কাচ্চি ১ঃ৩ অর্ডার করেছিলাম। দাম যথেষ্ট রিজোনেবল। টেস্ট ও বেশ মজা। আমি শুধু খুশি যে এখন থেকে আমাকে আর কষ্ট করে দূরে যাওয়া লাগবেনা। ...\n",
            "Actual NewsType:Best\n",
            "Predicted NewsType: Good\n",
            "\n",
            "গতকাল বন্ধুদের সাথে এলাকায় আড্ডা দিচ্ছিলাম হঠাৎ করে নজর পড়ল আনকমন একটি খাবার এর আইটেম, মোটামুটি ভিড় ছিল দোকানটিতে, বিস্তারিত বিষয়টা বুঝার জন্য সামনে গিয়ে দেখি আলু একটি বিশেষ মেশিন দ্বারা খুব সুন্দর ভাবে পেচিয়ে একটি সুন্দর আকারে নিয়ে এসে বিভন্ন ধরনের মিশ্রনের সাথে তেলে ভেজে পরিবেশন করছে, প্রথমে কৌতুহলবশত একটি নিয়ে চেখে দেখলাম, সত্যি খাবারটা দেখতে যেমন সুন্দর খেতে আরো মজা🔥 ছিলো, এইটার নাম ঠিক আমি জানি না, কিন্তু কেউ জেনে থাকলে জানাবেন প্লীজ। দামঃ ২০/- টাকা মাত্র! ...\n",
            "Actual NewsType:Good\n",
            "Predicted NewsType: Good\n",
            "\n",
            "আড্ডার উদ্দেশ্যে সকলে একত্রে হয়েছিলাম কুডোস মোহাম্মদপুর ব্রাঞ্চে।অর্ডার করলাম নাগা উইংগস! নাগা উইংগস কোল্ড কফি ছাড়া খাওয়া কারও পক্ষেই সম্ভব নয় তাই সাথে কোল্ড কফিও নিয়েছিলাম এবং তাদের বিফ চিজ বার্গারটিতো ট্রাই না করলেই নয় তাই সেটিও অর্ডার করেছিলাম!😗 ইউংগস এর ঝাল নিয়ে না বললেই নয়!😌🤤 ঝাল খাওয়ার পর যে কারোরই কোল্ড কফির স্বাদ স্বর্গীয় মনে হবে! আমার কাছেও তা হয়েছে! অত্যন্ত ঠান্ডা ছিলো এবং চকলেটি ছিলো তাদের ফ্রিজ চকো কফি!🤤 তাদের বিফ চিজ বার্গার একটি স্পেশিয়াল আইটেম যায় মূল কারণ হলো এটির বিসাল সাইজের সফ্ট বিফ পেটি! প্রতি বাইটেই পাবেন বিফের টেস্ট! আর এতে বিদ্যমান মেয়োনিজ এর টেস্ট অত্যন্ত জুসি করে তুলে!💞 ওভারল আমার কাছে বেশ ভালো লেগেছে! ...\n",
            "Actual NewsType:Good\n",
            "Predicted NewsType: Good\n",
            "\n",
            "জলে যখন নেমেছি মাছ আমি ধরবই....চীজ যখন বলেছি বার্গার আমি খাবই😁😁😁।। মোহাম্মদপুর এ গিয়েছিলা...আর এই গরমে মিনিটে মিনিটে খুদা লাগে।।আর ছোট খুদার বড় সমাধান হচ্ছে বার্গার।আর এখানে খুব রিজনেবল প্রাইজ এ সকল ফুড সার্ভ করা হয়।আর ফুড এর প্রাইজ বলতে গেলে আন্ডার ২০০৳।পরিবেশ দেখেও মন ভালো হয়ে৷ গেলো।আমি অর্ডার করেছিলাম চিকেন রুম বার্গার আর...চকো কফি ফ্রিজ (রেগুলার),মাসালা পটেটোস। বার্গার এ চীজ এর পরিমান কি বলব মাসাআল্লাহ বলে চীজ ঢেলে দিয়েছে মনে হয়।বার্গার এর ছিল চিকেন,,মাশরুম,,ওনিওন,লেটুস পাতা😋😋😋।বার্গার এর বান অনেক সফ্ট।মাসালা পটেটোস---বলতে গেলে এটা ওয়েজেসই।ক্রিস্পি😋😋😋,,পরিমান এ ও ভালো😋😋। চকো কফি --কফি ফুল চকলেটি! এক কথায় বেষ্ট ছিল সব! ...\n",
            "Actual NewsType:Best\n",
            "Predicted NewsType: Best\n",
            "\n",
            "গিয়েছিলাম লাঞ্চ বুফেতে। ৪৫+ আইটেম ছিল। তবে মাস্ট ট্রাই আইটেম গুলোর বর্ননা দেই। চিকেন বিরিয়ানিটা বেস্ট ছিল।চিকেনের সলিড মাংস পেয়েছি অনেক গুলো! তাদের কাবাব গুলো একেকটা অসাধারণ। কাবাব আর নান দিয়েই টাকা উসুল। চিকেন টিকা বাটার মাসালা টা আরো অসাধারণ ছিল ঝাল এবং বাটারের মধ্যে চিকেনের হাবুডুবু আহ্হ্হ! তাদের স্পেশাল রেড ভেল্ভেট কেকটি এক কথায় অসাধারণ। বিফ রেজালার মাংসগুলো অনেক সফ্ট এন্ড বিয়ে বাড়ি টাইপ টেস্ট। ফ্লেমিং চিকেন । এটি ঝালে ভরপুর কিউব চিকেনের একটি আইটেম বাদ বাকী সকল কিছু টেস্টও খুব ভালো ছিল তবে উপরোক্ত আইটেম গুলো মাস্ত ট্রাই করবেন। প্রাইস- ৫৯৯৳। ...\n",
            "Actual NewsType:Best\n",
            "Predicted NewsType: Best\n",
            "\n",
            "আজকের রিভিউ টা স্টেক বার্গার নিয়ে।এর অবস্থা বসুন্ধরা গেটের ভিতরে ঢুকে একটু হাটলেই দেখবেন।। নিয়েছিলাম চিকেন সুপ্রিম বার্গার।বার্গারে বড় বড় প্যাটি পাবেন চিকেনের।সাথে রয়েছে অনেকের প্রিয় চীজ,লেটুস পাতা।প্যাটি গুলো একটু মোটাতাজা ছিলো আর জুসি ছিলো ভালোই।একটু সাইজে বড় হওয়ার পরেও অভারকুকড হয় নাই দেখে আমার ভালোই লেগেছে।জিনিস টা ভালো লাগার মতোই।গরম গরম ছিলো তাই প্রতি বাইটেই একটা মজাদার স্বাদ পাওয়া যাচ্ছিলো।সাথে একটা সুন্দর ফ্লেভার। দাম পরেছিলো ২৬৫ টাকা। ...\n",
            "Actual NewsType:Good\n",
            "Predicted NewsType: Good\n",
            "\n",
            "খেয়ে নিলাম, হাম্বা বার্গার মানে হচ্ছে বিফ বার্গার। এতো মজার বার্গার টা খেতে গিয়েছিলাম রোড সাইড কিচেনে; এই বার্গার প্লেটারে ছিলোঃ ১) বার্গার (বিফ প্যাটি ডাবল); ২)ফ্রেঞ্চ ফ্রাই,(অনেকগুলা ছিলো); ৩)হানি মাস্টার্ড সস (হাউজ স্পেশাল); বার্গার এ বান টা সফট ছিলো,বার্গার এ চিজ স্লাইস দিয়েছিলো ২ টা, আর প্যাটি ছিলো বিফ। অনেক ফেনসি একটা বার্গার, লুক আর ডেকোরেশন খুব সুন্দর। খেতে ভালো ছিলো, অনেক সুন্দর একটা বিফ ফ্লেভার আসছিলো প্রতি বাইটে। আর সাথে হানি মাস্টার্ড সস টা দিয়ে ফ্রেঞ্চ ফ্রাই, এক্কেরে উম্অম, জান্নাত একটা ফিলিংস 😊 প্রাইস - ২৫০ টাকা! ...\n",
            "Actual NewsType:Good\n",
            "Predicted NewsType: Good\n",
            "\n",
            "বৃষ্টিবিঘ্নিত এক দিনে বাফেট স্টোরিজ মিরপুরে........ 😌 প্রথমেই বলি কাউকে এখানে যাওয়ার জন্য ফোর্স করতিছি না! অনেকদিন পর আবারও ঠিক করেছিলাম বুফে যাবো ;কিন্তু বৃষ্টি যে এভাবে বাধা দিবে ভাবিনাই...... কিন্তু আমরা এক কথা যাবো ঠিক করছি তো যাবোই! যাই হোক অবশেষে নিজের সেফটি বজায় রেখে চলে গেলাম লাঞ্চ করতে আমার প্রিয় বুফে তে.... তাদের লাঞ্চ আইটেম এ বরাবরের মতোই ছিল ৬০+ আইটেম। আমার এখানে আসলে সব থেকে বেশি ভালো লাগে তাদের ডেজার্ট আইটেম গুলা 😍। বিশেষ করে ডেজার্ট এ তাদের রেড ভেলভেট আইটেম টা; এছাড়াও তাদের অন্যান্য আইটেম গুলাও আনেক ভালো লাগে। তাদের ডেজার্ট আইটেম গুলা যদি ট্রাই করতে চান ;তাহলে মাস্ট ট্রাই করতে বলবো! ...\n",
            "Actual NewsType:Good\n",
            "Predicted NewsType: Good\n",
            "\n",
            "মিরপুরের ভিতর বেস্ট বুফে গুলোর শীর্ষে রয়েছে বাফেট স্টরিস। আমি গিয়েছিলাম লাঞ্চ বুফেতে। ৪৫+ আইটেম ছিল। তবে মাস্ট ট্রাই আইটেম গুলোর বর্ননা দেই। চিকেন বিরিয়ানিটা বেস্ট ছিল।চিকেনের সলিড মাংস পেয়েছি অনেক গুলো; তাদের কাবাব গুলো একেকটা অসাধারণ। কাবাব আর নান দিয়েই টাকা উসুল। চিকেন টিকা বাটার মাসালা টা আরো অসাধারণ ছিল ঝাল এবং বাটারের মধ্যে চিকেনের হাবুডুবু আহ্হ্হ! তাদের স্পেশাল রেড ভেল্ভেট কেকটি এক কথায় অসাধারণ।বিফ রেজালার মাংসগুলো অনেক সফ্ট এন্ড বিয়ে বাড়ি টাইপ টেস্ট। ফ্লেমিং চিকেন । এটি ঝালে ভরপুর কিউব চিকেনের একটি আইটেম। গর্লিক প্রন ছিল বেস্ট। এস এ চিংড়ি প্রেমি আমার কাছে বেশ অসাধারণ লেগেছে।তাদের গুলাপ জামুন ৪ পিস খেয়ে দিয়েছি। উপরোক্ত আইটেম গুলো মাস্ত ট্রাই করবেন। প্রাইস- ৫৯৯৳। ...\n",
            "Actual NewsType:Best\n",
            "Predicted NewsType: Best\n",
            "\n",
            "আমার খাওয়া কাচ্চি গুলির ভিতর অন অফ দা বেস্ট কাচ্চি ছিল। আমি বাংলাদেশের অনেক যায়গায় কাচ্চি খেয়েছি এবং আমি কাচ্চি প্রিয় মানুষ ।সুলতানের কাচ্চি ভালোলাগার বিশেষ যে দিকটা ছিল আমার কাছে সেটি হল যে ওদের মিক্সচার অনেক ভালো ছিল যে পরিমাণে দরকার ছিল মোটামুটি আপনারা দুইজন খেতে পারবে । যদি খুব খাদক প্রিয় মানুষ হন তাহলে দেখবেন দুইটা নিলেই তিনজন খেতে পারবেন এবং পর্যাপ্ত। ভালো লাগছে খাসির যে পিস গুলো ছিল সেগুলো এবং কাচ্চির যে মূল জিনিসটা আলু সেটা ওদের জোশ ছিল ।ওভারঅল আলহামদুলিল্লাহ; দাম:৩৯৯ টাকা! ...\n",
            "Actual NewsType:Best\n",
            "Predicted NewsType: Good\n",
            "\n",
            "বিকাল থেকেই আকাশ মেঘলা থাকায় কাচ্চির জন্য চঞ্চল হয়ে গিয়েছিলাম। তাই বাসা থেকে একটু দূরে গেলাম ট্রেডিশনাল বিডি তে, কারন আমার জানামতে কাচ্চির জন্য অত্র এলাকায় এরাই সেরা; তিন জন ছিলাম তাই, অর্ডার করেছিলাম —কাচ্চি প্লেটার ফুল; যা যা ছিলো:- ১) কাচ্চি  ২) রোস্ট (৩ পিস) ৩) জালি কাবাব (৩ পিস) ৪) জর্দা ৫) চাটনী এবং সালাদ; টেস্ট এর কথা বললে ট্রেডিশন বিডির কাচ্চি ছাড়া খিলগাওয়ে আর কোনো ভালো কাচ্চি নেই। অত্র খিলগাওয়ে এরাই সেরা। ৮ পিস কাচ্চির নরম স্বাদের গোস্ত থাকে, একদম সফট, ১/২ পিস হাড়সহ গোস্ত পেলে ভাগে নিয়ে নিবেন,নাহলে মিস করবেন। রোস্ট টায় বিয়ে বাড়ির স্বাদ পেয়েছিলাম, জালি কাবাব টাও মজার ছিলো। প্রাইস - ১৭৪০ ৳ ...\n",
            "Actual NewsType:Best\n",
            "Predicted NewsType: Good\n",
            "\n"
          ],
          "name": "stdout"
        }
      ]
    },
    {
      "cell_type": "code",
      "metadata": {
        "id": "TYUIiZY9lsJW"
      },
      "source": [
        ""
      ],
      "execution_count": null,
      "outputs": []
    }
  ]
}